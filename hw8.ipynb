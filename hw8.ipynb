{
  "nbformat": 4,
  "nbformat_minor": 0,
  "metadata": {
    "colab": {
      "name": "hw8.ipynb",
      "version": "0.3.2",
      "provenance": [],
      "include_colab_link": true
    },
    "kernelspec": {
      "name": "python3",
      "display_name": "Python 3"
    },
    "accelerator": "GPU"
  },
  "cells": [
    {
      "cell_type": "markdown",
      "metadata": {
        "id": "view-in-github",
        "colab_type": "text"
      },
      "source": [
        "<a href=\"https://colab.research.google.com/github/b04201025/math.ai.hw/blob/master/hw8.ipynb\" target=\"_parent\"><img src=\"https://colab.research.google.com/assets/colab-badge.svg\" alt=\"Open In Colab\"/></a>"
      ]
    },
    {
      "metadata": {
        "id": "A8dm5p2Hx2md",
        "colab_type": "code",
        "colab": {}
      },
      "cell_type": "code",
      "source": [
        "%matplotlib inline\n",
        "\n",
        "import numpy as np\n",
        "import matplotlib.pyplot as plt\n",
        "\n",
        "from keras.models import Sequential, Model\n",
        "from keras.datasets import mnist\n",
        "from keras.layers import Dense, Dropout, Activation, Flatten, concatenate, add, Input\n",
        "from keras.utils import np_utils  # 用來後續將 label 標籤轉為 one-hot-encoding  \n",
        "from matplotlib import pyplot as plt\n",
        "\n",
        "\n",
        "from keras.datasets import mnist\n"
      ],
      "execution_count": 0,
      "outputs": []
    },
    {
      "metadata": {
        "id": "b9gF8JT1MPyQ",
        "colab_type": "code",
        "colab": {}
      },
      "cell_type": "code",
      "source": [
        "(x_train, y_train), (x_test, y_test) = mnist.load_data()\n",
        "\n",
        "x_train = x_train.reshape(60000, 784)\n",
        "x_test = x_test.reshape(10000, 784)\n",
        "\n",
        "x_train_1 = x_train / x_train.max()\n",
        "x_test_1 = x_test / x_test.max()\n",
        "\n",
        "y_train = np_utils.to_categorical(y_train, 10)\n",
        "y_test = np_utils.to_categorical(y_test, 10)"
      ],
      "execution_count": 0,
      "outputs": []
    },
    {
      "metadata": {
        "id": "Zd1w-N84MP09",
        "colab_type": "code",
        "colab": {}
      },
      "cell_type": "code",
      "source": [
        "model = Sequential()\n",
        "\n",
        "model.add(Dense(256, input_dim=784,\n",
        "                kernel_initializer='normal',\n",
        "                bias_initializer='zeros'))\n",
        "model.add(Activation('relu'))\n",
        "\n",
        "\n",
        "\n",
        "model.add(Dense(10,\n",
        "                kernel_initializer='normal',\n",
        "                bias_initializer='zeros'))\n",
        "model.add( Activation('softmax'))"
      ],
      "execution_count": 0,
      "outputs": []
    },
    {
      "metadata": {
        "id": "V6ID-s_LMP3u",
        "colab_type": "code",
        "outputId": "57a87d49-1b5b-4dba-9735-eec8bb641873",
        "colab": {
          "base_uri": "https://localhost:8080/",
          "height": 952
        }
      },
      "cell_type": "code",
      "source": [
        "from keras import optimizers\n",
        "\n",
        "# 所有参数梯度将被裁剪，让其l2范数最大为1：g * 1 / max(1, l2_norm)\n",
        "sgd = optimizers.SGD(lr=0.01, clipvalue=0.5)\n",
        "\n",
        "model.compile(loss='categorical_crossentropy', optimizer='adam', metrics=['accuracy'])\n",
        "\n",
        "model.summary()\n",
        "\n",
        "model.fit(x_train, y_train, epochs=10, batch_size=800)\n",
        "\n",
        "train_history = model.fit(x=x_train, y=y_train, epochs=10, batch_size=800)  \n"
      ],
      "execution_count": 31,
      "outputs": [
        {
          "output_type": "stream",
          "text": [
            "_________________________________________________________________\n",
            "Layer (type)                 Output Shape              Param #   \n",
            "=================================================================\n",
            "dense_26 (Dense)             (None, 256)               200960    \n",
            "_________________________________________________________________\n",
            "activation_5 (Activation)    (None, 256)               0         \n",
            "_________________________________________________________________\n",
            "dense_27 (Dense)             (None, 10)                2570      \n",
            "_________________________________________________________________\n",
            "activation_6 (Activation)    (None, 10)                0         \n",
            "=================================================================\n",
            "Total params: 203,530\n",
            "Trainable params: 203,530\n",
            "Non-trainable params: 0\n",
            "_________________________________________________________________\n",
            "Epoch 1/10\n",
            "60000/60000 [==============================] - 1s 11us/step - loss: 7.2759 - acc: 0.5388\n",
            "Epoch 2/10\n",
            "60000/60000 [==============================] - 0s 6us/step - loss: 4.3822 - acc: 0.7224\n",
            "Epoch 3/10\n",
            "60000/60000 [==============================] - 0s 6us/step - loss: 4.1119 - acc: 0.7400\n",
            "Epoch 4/10\n",
            "60000/60000 [==============================] - 0s 6us/step - loss: 3.9313 - acc: 0.7517\n",
            "Epoch 5/10\n",
            "60000/60000 [==============================] - 0s 6us/step - loss: 3.8726 - acc: 0.7555\n",
            "Epoch 6/10\n",
            "60000/60000 [==============================] - 0s 6us/step - loss: 3.8048 - acc: 0.7601\n",
            "Epoch 7/10\n",
            "60000/60000 [==============================] - 0s 6us/step - loss: 3.7693 - acc: 0.7626\n",
            "Epoch 8/10\n",
            "60000/60000 [==============================] - 0s 6us/step - loss: 3.7102 - acc: 0.7661\n",
            "Epoch 9/10\n",
            "60000/60000 [==============================] - 0s 6us/step - loss: 2.3747 - acc: 0.8470\n",
            "Epoch 10/10\n",
            "60000/60000 [==============================] - 0s 6us/step - loss: 2.1075 - acc: 0.8651\n",
            "Epoch 1/10\n",
            "60000/60000 [==============================] - 0s 6us/step - loss: 2.0403 - acc: 0.8692\n",
            "Epoch 2/10\n",
            "60000/60000 [==============================] - 0s 6us/step - loss: 1.9969 - acc: 0.8722\n",
            "Epoch 3/10\n",
            "60000/60000 [==============================] - 0s 6us/step - loss: 1.2300 - acc: 0.9190\n",
            "Epoch 4/10\n",
            "60000/60000 [==============================] - 0s 6us/step - loss: 0.4587 - acc: 0.9672\n",
            "Epoch 5/10\n",
            "60000/60000 [==============================] - 0s 6us/step - loss: 0.4059 - acc: 0.9716\n",
            "Epoch 6/10\n",
            "60000/60000 [==============================] - 0s 6us/step - loss: 0.3717 - acc: 0.9728\n",
            "Epoch 7/10\n",
            "60000/60000 [==============================] - 0s 6us/step - loss: 0.3173 - acc: 0.9772\n",
            "Epoch 8/10\n",
            "60000/60000 [==============================] - 0s 6us/step - loss: 0.2999 - acc: 0.9784\n",
            "Epoch 9/10\n",
            "60000/60000 [==============================] - 0s 6us/step - loss: 0.2936 - acc: 0.9789\n",
            "Epoch 10/10\n",
            "60000/60000 [==============================] - 0s 6us/step - loss: 0.2832 - acc: 0.9798\n"
          ],
          "name": "stdout"
        }
      ]
    },
    {
      "metadata": {
        "id": "jhuAEZCSMP6q",
        "colab_type": "code",
        "outputId": "6242a8fc-cbcf-40fa-e552-befbbb33fcd6",
        "colab": {
          "base_uri": "https://localhost:8080/",
          "height": 295
        }
      },
      "cell_type": "code",
      "source": [
        "plt.plot(train_history.history['loss'])  \n",
        "plt.title('Train History')  \n",
        "plt.ylabel('loss')  \n",
        "plt.xlabel('Epoch')  \n",
        "plt.legend(['loss', 'val_loss'], loc='upper left')  \n",
        "plt.show() "
      ],
      "execution_count": 32,
      "outputs": [
        {
          "output_type": "display_data",
          "data": {
            "image/png": "[encoded data removed]",
            "text/plain": [
              "<Figure size 432x288 with 1 Axes>"
            ]
          },
          "metadata": {
            "tags": []
          }
        }
      ]
    },
    {
      "metadata": {
        "id": "tYdt9_wYj0p3",
        "colab_type": "code",
        "outputId": "fe6bd81e-29ee-47a4-d436-f6e9e29ab238",
        "colab": {
          "base_uri": "https://localhost:8080/",
          "height": 68
        }
      },
      "cell_type": "code",
      "source": [
        "\n",
        "score = model.evaluate(x_test,y_test)\n",
        "\n",
        "print('測試資料的 loss:', score[0])\n",
        "print('測試資料正確率:', score[1])\n"
      ],
      "execution_count": 33,
      "outputs": [
        {
          "output_type": "stream",
          "text": [
            "10000/10000 [==============================] - 0s 49us/step\n",
            "測試資料的 loss: 0.4903077158215861\n",
            "測試資料正確率: 0.9655\n"
          ],
          "name": "stdout"
        }
      ]
    },
    {
      "metadata": {
        "id": "sZgPWwE9SEdP",
        "colab_type": "text"
      },
      "cell_type": "markdown",
      "source": [
        "# 有分岔的神經網路"
      ]
    },
    {
      "metadata": {
        "id": "KOT-cwPTSDS2",
        "colab_type": "code",
        "colab": {
          "base_uri": "https://localhost:8080/",
          "height": 1003
        },
        "outputId": "cf039e1e-5041-4db3-d4e5-31c960afc32d"
      },
      "cell_type": "code",
      "source": [
        "f_1 = Dense(128, activation='relu')\n",
        "f_2 = Dense(128, activation='relu')\n",
        "f_3 = Dense(10, activation='softmax')\n",
        "\n",
        "\n",
        "x = Input(shape=(784,))\n",
        "h_1 = f_1(x)\n",
        "h_2 = f_2(x)\n",
        "u = concatenate([h_1, h_2])\n",
        "y = f_3(u)\n",
        "\n",
        "model = Model(x, y)\n",
        "model.summary()\n",
        "\n",
        "model.compile(loss='categorical_crossentropy', optimizer='adam', metrics=['accuracy'])\n",
        "model.fit(x_train, y_train, epochs=10, batch_size=800)\n",
        "train_history = model.fit(x=x_train, y=y_train, epochs=10, batch_size=800)  \n",
        "\n",
        "\n"
      ],
      "execution_count": 34,
      "outputs": [
        {
          "output_type": "stream",
          "text": [
            "__________________________________________________________________________________________________\n",
            "Layer (type)                    Output Shape         Param #     Connected to                     \n",
            "==================================================================================================\n",
            "input_7 (InputLayer)            (None, 784)          0                                            \n",
            "__________________________________________________________________________________________________\n",
            "dense_28 (Dense)                (None, 128)          100480      input_7[0][0]                    \n",
            "__________________________________________________________________________________________________\n",
            "dense_29 (Dense)                (None, 128)          100480      input_7[0][0]                    \n",
            "__________________________________________________________________________________________________\n",
            "concatenate_7 (Concatenate)     (None, 256)          0           dense_28[0][0]                   \n",
            "                                                                 dense_29[0][0]                   \n",
            "__________________________________________________________________________________________________\n",
            "dense_30 (Dense)                (None, 10)           2570        concatenate_7[0][0]              \n",
            "==================================================================================================\n",
            "Total params: 203,530\n",
            "Trainable params: 203,530\n",
            "Non-trainable params: 0\n",
            "__________________________________________________________________________________________________\n",
            "Epoch 1/10\n",
            "60000/60000 [==============================] - 1s 13us/step - loss: 7.0081 - acc: 0.5599\n",
            "Epoch 2/10\n",
            "60000/60000 [==============================] - 0s 6us/step - loss: 5.7055 - acc: 0.6434\n",
            "Epoch 3/10\n",
            "60000/60000 [==============================] - 0s 6us/step - loss: 5.5472 - acc: 0.6536\n",
            "Epoch 4/10\n",
            "60000/60000 [==============================] - 0s 6us/step - loss: 4.4956 - acc: 0.7177\n",
            "Epoch 5/10\n",
            "60000/60000 [==============================] - 0s 6us/step - loss: 4.1877 - acc: 0.7375\n",
            "Epoch 6/10\n",
            "60000/60000 [==============================] - 0s 6us/step - loss: 4.0524 - acc: 0.7463\n",
            "Epoch 7/10\n",
            "60000/60000 [==============================] - 0s 6us/step - loss: 4.0058 - acc: 0.7494\n",
            "Epoch 8/10\n",
            "60000/60000 [==============================] - 0s 6us/step - loss: 3.9677 - acc: 0.7518\n",
            "Epoch 9/10\n",
            "60000/60000 [==============================] - 0s 6us/step - loss: 3.8825 - acc: 0.7572\n",
            "Epoch 10/10\n",
            "60000/60000 [==============================] - 0s 6us/step - loss: 3.8578 - acc: 0.7587\n",
            "Epoch 1/10\n",
            "60000/60000 [==============================] - 0s 6us/step - loss: 3.8306 - acc: 0.7608\n",
            "Epoch 2/10\n",
            "60000/60000 [==============================] - 0s 6us/step - loss: 3.8110 - acc: 0.7616\n",
            "Epoch 3/10\n",
            "60000/60000 [==============================] - 0s 6us/step - loss: 3.7795 - acc: 0.7641\n",
            "Epoch 4/10\n",
            "60000/60000 [==============================] - 0s 6us/step - loss: 3.7730 - acc: 0.7645\n",
            "Epoch 5/10\n",
            "60000/60000 [==============================] - 0s 6us/step - loss: 3.7802 - acc: 0.7640\n",
            "Epoch 6/10\n",
            "60000/60000 [==============================] - 0s 6us/step - loss: 3.7676 - acc: 0.7646\n",
            "Epoch 7/10\n",
            "60000/60000 [==============================] - 0s 6us/step - loss: 3.7160 - acc: 0.7679\n",
            "Epoch 8/10\n",
            "60000/60000 [==============================] - 0s 6us/step - loss: 3.7393 - acc: 0.7666\n",
            "Epoch 9/10\n",
            "60000/60000 [==============================] - 0s 6us/step - loss: 3.7023 - acc: 0.7687\n",
            "Epoch 10/10\n",
            "60000/60000 [==============================] - 0s 6us/step - loss: 3.6433 - acc: 0.7726\n"
          ],
          "name": "stdout"
        }
      ]
    },
    {
      "metadata": {
        "id": "7COqlPrXSDb-",
        "colab_type": "code",
        "colab": {
          "base_uri": "https://localhost:8080/",
          "height": 295
        },
        "outputId": "5df1722e-dcdb-4ff3-bfbd-88f9a913c882"
      },
      "cell_type": "code",
      "source": [
        "plt.plot(train_history.history['loss'])  \n",
        "plt.title('Train History')  \n",
        "plt.ylabel('loss')  \n",
        "plt.xlabel('Epoch')  \n",
        "plt.legend(['loss', 'val_loss'], loc='upper left')  \n",
        "plt.show() "
      ],
      "execution_count": 35,
      "outputs": [
        {
          "output_type": "display_data",
          "data": {
            "image/png": "[encoded data removed]",
            "text/plain": [
              "<Figure size 432x288 with 1 Axes>"
            ]
          },
          "metadata": {
            "tags": []
          }
        }
      ]
    },
    {
      "metadata": {
        "id": "5aCWn9X1SDoN",
        "colab_type": "code",
        "colab": {
          "base_uri": "https://localhost:8080/",
          "height": 68
        },
        "outputId": "29a9a387-9547-49d6-c2de-4183a47dd388"
      },
      "cell_type": "code",
      "source": [
        "\n",
        "score = model.evaluate(x_train, y_train)\n",
        "print(\"Loss: %f\" %score[0])\n",
        "print(\"準確率: %f\" %(score[1]*100))"
      ],
      "execution_count": 36,
      "outputs": [
        {
          "output_type": "stream",
          "text": [
            "60000/60000 [==============================] - 2s 39us/step\n",
            "Loss: 3.668849\n",
            "準確率: 77.121667\n"
          ],
          "name": "stdout"
        }
      ]
    },
    {
      "metadata": {
        "id": "iqI4yxMWWzPV",
        "colab_type": "text"
      },
      "cell_type": "markdown",
      "source": [
        "# 可以發現，同樣的 parameter 之下，原本的 model 效果比較好"
      ]
    }
  ]
}