{
  "nbformat": 4,
  "nbformat_minor": 0,
  "metadata": {
    "colab": {
      "name": "hw7.ipynb",
      "version": "0.3.2",
      "provenance": [],
      "include_colab_link": true
    },
    "kernelspec": {
      "name": "python3",
      "display_name": "Python 3"
    },
    "accelerator": "GPU"
  },
  "cells": [
    {
      "cell_type": "markdown",
      "metadata": {
        "id": "view-in-github",
        "colab_type": "text"
      },
      "source": [
        "<a href=\"https://colab.research.google.com/github/b04201025/math.ai.hw/blob/master/hw7.ipynb\" target=\"_parent\"><img src=\"https://colab.research.google.com/assets/colab-badge.svg\" alt=\"Open In Colab\"/></a>"
      ]
    },
    {
      "metadata": {
        "id": "A8dm5p2Hx2md",
        "colab_type": "code",
        "colab": {}
      },
      "cell_type": "code",
      "source": [
        "%matplotlib inline\n",
        "\n",
        "import numpy as np\n",
        "import matplotlib.pyplot as plt\n",
        "\n",
        "from keras.models import Sequential\n",
        "from keras.datasets import mnist\n",
        "from keras.layers import Dense, Dropout, Activation, Flatten\n",
        "from keras.utils import np_utils  # 用來後續將 label 標籤轉為 one-hot-encoding  \n",
        "from matplotlib import pyplot as plt\n",
        "\n",
        "from keras.datasets import mnist\n"
      ],
      "execution_count": 0,
      "outputs": []
    },
    {
      "metadata": {
        "id": "b9gF8JT1MPyQ",
        "colab_type": "code",
        "colab": {}
      },
      "cell_type": "code",
      "source": [
        "(x_train, y_train), (x_test, y_test) = mnist.load_data()\n",
        "\n",
        "x_train = x_train.reshape(60000, 784)\n",
        "x_test = x_test.reshape(10000, 784)\n",
        "\n",
        "x_train_1 = x_train / x_train.max()\n",
        "x_test_1 = x_test / x_test.max()\n",
        "\n",
        "y_train = np_utils.to_categorical(y_train, 10)\n",
        "y_test = np_utils.to_categorical(y_test, 10)"
      ],
      "execution_count": 0,
      "outputs": []
    },
    {
      "metadata": {
        "id": "Zd1w-N84MP09",
        "colab_type": "code",
        "colab": {}
      },
      "cell_type": "code",
      "source": [
        "model = Sequential()\n",
        "\n",
        "model.add(Dense(256, input_dim=784,\n",
        "                kernel_initializer='normal',\n",
        "                bias_initializer='zeros'))\n",
        "model.add(Activation('relu'))\n",
        "\n",
        "\n",
        "\n",
        "model.add(Dense(10,\n",
        "                kernel_initializer='normal',\n",
        "                bias_initializer='zeros'))\n",
        "model.add( Activation('softmax'))"
      ],
      "execution_count": 0,
      "outputs": []
    },
    {
      "metadata": {
        "id": "V6ID-s_LMP3u",
        "colab_type": "code",
        "colab": {
          "base_uri": "https://localhost:8080/",
          "height": 952
        },
        "outputId": "5b0b910a-2c4a-465e-e74d-792b7d8f6ce6"
      },
      "cell_type": "code",
      "source": [
        "from keras import optimizers\n",
        "\n",
        "# 所有参数梯度将被裁剪，让其l2范数最大为1：g * 1 / max(1, l2_norm)\n",
        "sgd = optimizers.SGD(lr=0.01, clipvalue=0.5)\n",
        "\n",
        "model.compile(loss='categorical_crossentropy', optimizer='adam', metrics=['accuracy'])\n",
        "\n",
        "model.summary()\n",
        "\n",
        "model.fit(x_train_norm, y_train, epochs=10, batch_size=800)\n",
        "\n",
        "train_history = model.fit(x=x_train_norm, y=y_train, epochs=10, batch_size=800)  \n"
      ],
      "execution_count": 61,
      "outputs": [
        {
          "output_type": "stream",
          "text": [
            "_________________________________________________________________\n",
            "Layer (type)                 Output Shape              Param #   \n",
            "=================================================================\n",
            "dense_25 (Dense)             (None, 256)               200960    \n",
            "_________________________________________________________________\n",
            "activation_22 (Activation)   (None, 256)               0         \n",
            "_________________________________________________________________\n",
            "dense_26 (Dense)             (None, 10)                2570      \n",
            "_________________________________________________________________\n",
            "activation_23 (Activation)   (None, 10)                0         \n",
            "=================================================================\n",
            "Total params: 203,530\n",
            "Trainable params: 203,530\n",
            "Non-trainable params: 0\n",
            "_________________________________________________________________\n",
            "Epoch 1/10\n",
            "60000/60000 [==============================] - 1s 21us/step - loss: 0.6813 - acc: 0.8313\n",
            "Epoch 2/10\n",
            "60000/60000 [==============================] - 1s 9us/step - loss: 0.2710 - acc: 0.9248\n",
            "Epoch 3/10\n",
            "60000/60000 [==============================] - 1s 9us/step - loss: 0.2090 - acc: 0.9411\n",
            "Epoch 4/10\n",
            "60000/60000 [==============================] - 0s 8us/step - loss: 0.1697 - acc: 0.9522\n",
            "Epoch 5/10\n",
            "60000/60000 [==============================] - 1s 9us/step - loss: 0.1417 - acc: 0.9603\n",
            "Epoch 6/10\n",
            "60000/60000 [==============================] - 1s 9us/step - loss: 0.1222 - acc: 0.9658\n",
            "Epoch 7/10\n",
            "60000/60000 [==============================] - 1s 9us/step - loss: 0.1053 - acc: 0.9704\n",
            "Epoch 8/10\n",
            "60000/60000 [==============================] - 1s 8us/step - loss: 0.0929 - acc: 0.9744\n",
            "Epoch 9/10\n",
            "60000/60000 [==============================] - 1s 9us/step - loss: 0.0821 - acc: 0.9766\n",
            "Epoch 10/10\n",
            "60000/60000 [==============================] - 1s 9us/step - loss: 0.0729 - acc: 0.9798\n",
            "Epoch 1/10\n",
            "60000/60000 [==============================] - 1s 8us/step - loss: 0.0661 - acc: 0.9818\n",
            "Epoch 2/10\n",
            "60000/60000 [==============================] - 0s 8us/step - loss: 0.0598 - acc: 0.9832\n",
            "Epoch 3/10\n",
            "60000/60000 [==============================] - 1s 8us/step - loss: 0.0541 - acc: 0.9850\n",
            "Epoch 4/10\n",
            "60000/60000 [==============================] - 0s 8us/step - loss: 0.0493 - acc: 0.9871\n",
            "Epoch 5/10\n",
            "60000/60000 [==============================] - 0s 8us/step - loss: 0.0444 - acc: 0.9884\n",
            "Epoch 6/10\n",
            "60000/60000 [==============================] - 0s 8us/step - loss: 0.0405 - acc: 0.9900\n",
            "Epoch 7/10\n",
            "60000/60000 [==============================] - 0s 8us/step - loss: 0.0369 - acc: 0.9907\n",
            "Epoch 8/10\n",
            "60000/60000 [==============================] - 0s 8us/step - loss: 0.0339 - acc: 0.9914\n",
            "Epoch 9/10\n",
            "60000/60000 [==============================] - 0s 8us/step - loss: 0.0308 - acc: 0.9926\n",
            "Epoch 10/10\n",
            "60000/60000 [==============================] - 0s 8us/step - loss: 0.0282 - acc: 0.9933\n"
          ],
          "name": "stdout"
        }
      ]
    },
    {
      "metadata": {
        "id": "jhuAEZCSMP6q",
        "colab_type": "code",
        "colab": {
          "base_uri": "https://localhost:8080/",
          "height": 295
        },
        "outputId": "6566db5a-5e47-4f15-8057-edf098680f96"
      },
      "cell_type": "code",
      "source": [
        "plt.plot(train_history.history['loss'])  \n",
        "plt.title('Train History')  \n",
        "plt.ylabel('loss')  \n",
        "plt.xlabel('Epoch')  \n",
        "plt.legend(['loss', 'val_loss'], loc='upper left')  \n",
        "plt.show() "
      ],
      "execution_count": 62,
      "outputs": [
        {
          "output_type": "display_data",
          "data": {
            "image/png": "[encoded data removed]",
            "text/plain": [
              "<Figure size 432x288 with 1 Axes>"
            ]
          },
          "metadata": {
            "tags": []
          }
        }
      ]
    },
    {
      "metadata": {
        "id": "tYdt9_wYj0p3",
        "colab_type": "code",
        "colab": {
          "base_uri": "https://localhost:8080/",
          "height": 68
        },
        "outputId": "7efe92a6-8704-45cc-ae48-713ac2a52926"
      },
      "cell_type": "code",
      "source": [
        "from ipywidgets import interact_manual\n",
        "\n",
        "\n",
        "def test(num):\n",
        "    plt.imshow(x_test[num].reshape(28,28), cmap=\"Greys\")\n",
        "    print(\"神經網路判斷為:\", predictions[num])\n",
        "    \n",
        "interact_manual(test, num =(0,9999))\n",
        "score = model.evaluate(x_test,y_test)\n",
        "\n",
        "print('測試資料的 loss:', score[0])\n",
        "print('測試資料正確率:', score[1])\n"
      ],
      "execution_count": 63,
      "outputs": [
        {
          "output_type": "display_data",
          "data": {
            "application/vnd.jupyter.widget-view+json": {
              "model_id": "a7c1d49b98fb4f898cf7cb48180361e2",
              "version_minor": 0,
              "version_major": 2
            },
            "text/plain": [
              "interactive(children=(IntSlider(value=4999, description='num', max=9999), Button(description='Run Interact', s…"
            ]
          },
          "metadata": {
            "tags": []
          }
        },
        {
          "output_type": "stream",
          "text": [
            "10000/10000 [==============================] - 1s 62us/step\n",
            "測試資料的 loss: 0.3316285855669259\n",
            "測試資料正確率: 0.9791\n"
          ],
          "name": "stdout"
        }
      ]
    }
  ]
}